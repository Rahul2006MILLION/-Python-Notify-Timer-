{
 "cells": [
  {
   "cell_type": "code",
   "execution_count": null,
   "id": "bdef5d88-6098-4471-8955-42774154f67d",
   "metadata": {},
   "outputs": [],
   "source": [
    "from datetime import datetime,timedelta,time\n",
    "from plyer import notification\n",
    "import time as t\n",
    "\n",
    "current=datetime.today().time()\n",
    "set_minutes=int(input(\"Minutes: \"))\n",
    "set_seconds=int(input(\"Seconds: \"))\n",
    "reminder=datetime.today()+timedelta(minutes=set_minutes)+timedelta(seconds=set_seconds)\n",
    "#Instead of Using While\n",
    "reminderinsec=(reminder-datetime.today()).total_seconds()\n",
    "if reminderinsec>0:\n",
    "    t.sleep(reminderinsec)\n",
    "    if set_minutes==0:\n",
    "        notification.notify(\n",
    "            title=\"⏰Timer\",\n",
    "            message=f\"TIMER: {set_seconds} Seconds Done!\",\n",
    "            timeout=10\n",
    "        )\n",
    "    elif set_seconds==0:\n",
    "        notification.notify(\n",
    "            title=\"⏰Timer\",\n",
    "            message=f\"TIMER: {set_minutes} Minutes Done!\",\n",
    "            timeout=10\n",
    "        )\n",
    "    else:\n",
    "        notification.notify(\n",
    "            title=\"⏰Timer\",\n",
    "            message=f\"TIMER: {set_minutes} Minutes, {set_seconds} Seconds Done!\",\n",
    "            timeout=10\n",
    "        )"
   ]
  }
 ],
 "metadata": {
  "kernelspec": {
   "display_name": "Python [conda env:base] *",
   "language": "python",
   "name": "conda-base-py"
  },
  "language_info": {
   "codemirror_mode": {
    "name": "ipython",
    "version": 3
   },
   "file_extension": ".py",
   "mimetype": "text/x-python",
   "name": "python",
   "nbconvert_exporter": "python",
   "pygments_lexer": "ipython3",
   "version": "3.13.5"
  }
 },
 "nbformat": 4,
 "nbformat_minor": 5
}
